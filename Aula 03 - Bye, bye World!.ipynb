{
 "cells": [
  {
   "cell_type": "markdown",
   "id": "733bf5b4",
   "metadata": {},
   "source": [
    "<hr style=\"height:10px\"> \n",
    " \n",
    "<div class='container2'>\n",
    "\t\t<div>\n",
    "\t\t\t<img src='LIA/images\\header.jpg' ALIGN='left' style='width:10em'>\n",
    "\t\t</div>\t\n",
    "\t<div style='padding: 0 7em 2em 12em;'>\n",
    "\t<h1>Laboratório de Inovação e Automação 1 (LIA 1)</h1>\n",
    "\t<div style=\"font-size:12pt;float:left;\"> 2023/2 | 24M34 | Sala 200 CAE</div><br><br>\n",
    "    <div style=\"font-size:12pt;float:left;\"><b>Projetos de Inteligência Artificial</b></div>\n",
    "\t</div>\n",
    "</div>\n",
    "\n",
    "\n",
    " <hr style=\"height:5px\"> \n",
    "\n",
    "    \n",
    "<h2>Introdução ao Ambiente de Projetos - Python</h2>\n",
    "\n",
    "Notebook desenvolvido por: <a href=\"http://lattes.cnpq.br/1346824250595330\">Prof. Dr. Adriano C. Santana</a>\n",
    "\n",
    " <hr style=\"height:2px\"> \n",
    " "
   ]
  },
  {
   "cell_type": "markdown",
   "id": "94114785",
   "metadata": {},
   "source": [
    "#### Tudo sobre o Python\n",
    "https://docs.python.org/3/"
   ]
  },
  {
   "cell_type": "code",
   "execution_count": null,
   "id": "05f332b3",
   "metadata": {
    "scrolled": true
   },
   "outputs": [],
   "source": [
    "from platform import python_version\n",
    "print(f'A versão em uso é {python_version()}.')"
   ]
  },
  {
   "cell_type": "code",
   "execution_count": null,
   "id": "8a727cf1",
   "metadata": {},
   "outputs": [],
   "source": [
    "# Verificando se o python está funcionando\n",
    "print(\"Bye bye, world!\")"
   ]
  },
  {
   "cell_type": "markdown",
   "id": "a782464f",
   "metadata": {},
   "source": [
    "#### Operadores Aritméticos"
   ]
  },
  {
   "cell_type": "code",
   "execution_count": null,
   "id": "c7c6f9d3",
   "metadata": {},
   "outputs": [],
   "source": [
    "# Adição\n",
    "1+1"
   ]
  },
  {
   "cell_type": "code",
   "execution_count": null,
   "id": "f54cdd41",
   "metadata": {},
   "outputs": [],
   "source": [
    "# Subtração\n",
    "2-1"
   ]
  },
  {
   "cell_type": "code",
   "execution_count": null,
   "id": "45aab296",
   "metadata": {},
   "outputs": [],
   "source": [
    "# Multiplicação\n",
    "2 * 2"
   ]
  },
  {
   "cell_type": "code",
   "execution_count": null,
   "id": "39a304eb",
   "metadata": {},
   "outputs": [],
   "source": [
    "# Divisão\n",
    "3 / 2"
   ]
  },
  {
   "cell_type": "code",
   "execution_count": null,
   "id": "f7b1a824",
   "metadata": {},
   "outputs": [],
   "source": [
    "# Potência\n",
    "4 ** 2"
   ]
  },
  {
   "cell_type": "code",
   "execution_count": null,
   "id": "115fb153",
   "metadata": {},
   "outputs": [],
   "source": [
    "# Módulo (resto da divisão)\n",
    "10 % 3"
   ]
  },
  {
   "cell_type": "markdown",
   "id": "8f74cf09",
   "metadata": {},
   "source": [
    "#### Tipos de Dados (Type)"
   ]
  },
  {
   "cell_type": "code",
   "execution_count": null,
   "id": "265f8e50",
   "metadata": {},
   "outputs": [],
   "source": [
    "# Qual o tipo do (?) - Inteiro\n",
    "type(5)"
   ]
  },
  {
   "cell_type": "code",
   "execution_count": null,
   "id": "daaafbfa",
   "metadata": {},
   "outputs": [],
   "source": [
    "# Qual o tipo do (?) - Float - Decimal\n",
    "type(5.0)"
   ]
  },
  {
   "cell_type": "code",
   "execution_count": null,
   "id": "a86433eb",
   "metadata": {},
   "outputs": [],
   "source": [
    "# Qual o tipo do (?) - String\n",
    "a = 'Estudando Python!'\n",
    "type(a)"
   ]
  },
  {
   "cell_type": "markdown",
   "id": "5ad3b996",
   "metadata": {},
   "source": [
    "#### Condicional if"
   ]
  },
  {
   "cell_type": "code",
   "execution_count": null,
   "id": "89b76d45",
   "metadata": {},
   "outputs": [],
   "source": [
    "# Condicional if\n",
    "if 5 > 2:\n",
    "    print(\"A sentença é verdadeira!\")"
   ]
  },
  {
   "cell_type": "code",
   "execution_count": null,
   "id": "77e0dcee",
   "metadata": {},
   "outputs": [],
   "source": [
    "# Condicional if...else\n",
    "if 5 < 2:\n",
    "    print(\"A sentença é verdadeira!\")\n",
    "else:\n",
    "    print(\"A sentença é falsa!\")"
   ]
  },
  {
   "cell_type": "code",
   "execution_count": null,
   "id": "10c81fe5",
   "metadata": {},
   "outputs": [],
   "source": [
    "# Condicional if...else com váriavel\n",
    "dia = \"Quarta-feira\"\n",
    "if dia == \"Sexta-feira\":\n",
    "    print(\"Hoje fará sol!\")\n",
    "else:\n",
    "    print(\"Hoje vai chover!\")"
   ]
  },
  {
   "cell_type": "markdown",
   "id": "1d75f574",
   "metadata": {},
   "source": [
    "#### Manipulando Arquivos\n",
    "\n",
    "#### Lendo arquivos (.txt)"
   ]
  },
  {
   "cell_type": "code",
   "execution_count": null,
   "id": "f761501d",
   "metadata": {},
   "outputs": [],
   "source": [
    "# Abrindo o arquivo para leitura\n",
    "a1 = open(\"LIA/arquivos/arquivo1.txt\", \"r\")"
   ]
  },
  {
   "cell_type": "code",
   "execution_count": null,
   "id": "a096ce6d",
   "metadata": {},
   "outputs": [],
   "source": [
    "print(a1.read())\n",
    "a1.close()"
   ]
  },
  {
   "cell_type": "markdown",
   "id": "7a1b78c5",
   "metadata": {},
   "source": [
    "#### Gravando arquivos (.txt)"
   ]
  },
  {
   "cell_type": "code",
   "execution_count": null,
   "id": "cdc67281",
   "metadata": {},
   "outputs": [],
   "source": [
    "# Abrindo o arquivo para gravação\n",
    "a2 = open(\"LIA/arquivos/arquivo2.txt\", \"w\")\n",
    "a2.write(\"Nova linha adicionada no arquivo!\")\n",
    "a2 = open(\"LIA/arquivos/arquivo2.txt\", \"r\")\n",
    "print(a2.read())"
   ]
  },
  {
   "cell_type": "code",
   "execution_count": 8,
   "id": "62f9af90",
   "metadata": {},
   "outputs": [
    {
     "name": "stdout",
     "output_type": "stream",
     "text": [
      "\n"
     ]
    }
   ],
   "source": [
    "# Abrindo o arquivo para gravação e leitura\n",
    "a3 = open(\"LIA/arquivos/arquivo3.txt\", \"r+\")\n",
    "a3.write(\"Nova linha adicionada no arquivo!\")\n",
    "print(a3.read())"
   ]
  },
  {
   "cell_type": "code",
   "execution_count": null,
   "id": "16f8dfc3",
   "metadata": {},
   "outputs": [],
   "source": []
  }
 ],
 "metadata": {
  "kernelspec": {
   "display_name": "Python 3 (ipykernel)",
   "language": "python",
   "name": "python3"
  },
  "language_info": {
   "codemirror_mode": {
    "name": "ipython",
    "version": 3
   },
   "file_extension": ".py",
   "mimetype": "text/x-python",
   "name": "python",
   "nbconvert_exporter": "python",
   "pygments_lexer": "ipython3",
   "version": "3.11.5"
  }
 },
 "nbformat": 4,
 "nbformat_minor": 5
}
